{
 "cells": [
  {
   "cell_type": "markdown",
   "id": "d74493eb",
   "metadata": {},
   "source": [
    "# Pyspark Handling Missing Values\n",
    "\n",
    "1. Dropping Columns\n",
    "2. Dropping Rows\n",
    "3. Various Parameter In Dropping functionalities\n",
    "4. Handling Missing values by Mean, Median And Mode"
   ]
  },
  {
   "cell_type": "code",
   "execution_count": 36,
   "id": "c9b2ec5f",
   "metadata": {},
   "outputs": [],
   "source": [
    "import pyspark"
   ]
  },
  {
   "cell_type": "code",
   "execution_count": 2,
   "id": "d4e9501c",
   "metadata": {},
   "outputs": [],
   "source": [
    "from pyspark.sql import SparkSession"
   ]
  },
  {
   "cell_type": "code",
   "execution_count": 3,
   "id": "f0e01f12",
   "metadata": {},
   "outputs": [],
   "source": [
    "spark = SparkSession.builder.appName('Practice').getOrCreate()"
   ]
  },
  {
   "cell_type": "code",
   "execution_count": 4,
   "id": "3ec0dfa4",
   "metadata": {},
   "outputs": [
    {
     "data": {
      "text/html": [
       "\n",
       "            <div>\n",
       "                <p><b>SparkSession - in-memory</b></p>\n",
       "                \n",
       "        <div>\n",
       "            <p><b>SparkContext</b></p>\n",
       "\n",
       "            <p><a href=\"http://DESKTOP-D1EJU4V:4041\">Spark UI</a></p>\n",
       "\n",
       "            <dl>\n",
       "              <dt>Version</dt>\n",
       "                <dd><code>v3.2.1</code></dd>\n",
       "              <dt>Master</dt>\n",
       "                <dd><code>local[*]</code></dd>\n",
       "              <dt>AppName</dt>\n",
       "                <dd><code>Practice</code></dd>\n",
       "            </dl>\n",
       "        </div>\n",
       "        \n",
       "            </div>\n",
       "        "
      ],
      "text/plain": [
       "<pyspark.sql.session.SparkSession at 0x25306fbb7c0>"
      ]
     },
     "execution_count": 4,
     "metadata": {},
     "output_type": "execute_result"
    }
   ],
   "source": [
    "spark"
   ]
  },
  {
   "cell_type": "code",
   "execution_count": 7,
   "id": "161ca4c3",
   "metadata": {},
   "outputs": [
    {
     "data": {
      "text/plain": [
       "DataFrame[Name: string, age: int, Experience: int, Salary: int]"
      ]
     },
     "execution_count": 7,
     "metadata": {},
     "output_type": "execute_result"
    }
   ],
   "source": [
    "spark.read.csv('test2.csv', header = True, inferSchema = True)"
   ]
  },
  {
   "cell_type": "code",
   "execution_count": 9,
   "id": "f2fa62e7",
   "metadata": {},
   "outputs": [
    {
     "name": "stdout",
     "output_type": "stream",
     "text": [
      "+------+----+----------+------+\n",
      "|  Name| age|Experience|Salary|\n",
      "+------+----+----------+------+\n",
      "|Deepak|  28|         5| 30000|\n",
      "|   Ram|  30|         5| 15120|\n",
      "| Shyam|  31|         4| 15153|\n",
      "| Sunny|  32|         3|  5620|\n",
      "|Mahesh|  35|         1|  8920|\n",
      "|  Raja|  65|         9| 99900|\n",
      "|Ramesh|null|      null| 44456|\n",
      "|  null|null|      null|  null|\n",
      "|  null|  34|         2|  null|\n",
      "|  null|  40|      null| 30000|\n",
      "+------+----+----------+------+\n",
      "\n"
     ]
    }
   ],
   "source": [
    "spark.read.csv('test2.csv', header = True, inferSchema = True).show()"
   ]
  },
  {
   "cell_type": "code",
   "execution_count": 10,
   "id": "9e8f7c81",
   "metadata": {},
   "outputs": [],
   "source": [
    "df_pyspark = spark.read.csv('test2.csv', header = True, inferSchema = True)"
   ]
  },
  {
   "cell_type": "code",
   "execution_count": 11,
   "id": "66789c81",
   "metadata": {},
   "outputs": [
    {
     "name": "stdout",
     "output_type": "stream",
     "text": [
      "+------+----+----------+------+\n",
      "|  Name| age|Experience|Salary|\n",
      "+------+----+----------+------+\n",
      "|Deepak|  28|         5| 30000|\n",
      "|   Ram|  30|         5| 15120|\n",
      "| Shyam|  31|         4| 15153|\n",
      "| Sunny|  32|         3|  5620|\n",
      "|Mahesh|  35|         1|  8920|\n",
      "|  Raja|  65|         9| 99900|\n",
      "|Ramesh|null|      null| 44456|\n",
      "|  null|null|      null|  null|\n",
      "|  null|  34|         2|  null|\n",
      "|  null|  40|      null| 30000|\n",
      "+------+----+----------+------+\n",
      "\n"
     ]
    }
   ],
   "source": [
    "df_pyspark.show()"
   ]
  },
  {
   "cell_type": "code",
   "execution_count": 16,
   "id": "fdb99902",
   "metadata": {},
   "outputs": [
    {
     "name": "stdout",
     "output_type": "stream",
     "text": [
      "+------+---+----------+------+\n",
      "|  Name|age|Experience|Salary|\n",
      "+------+---+----------+------+\n",
      "|Deepak| 28|         5| 30000|\n",
      "|   Ram| 30|         5| 15120|\n",
      "| Shyam| 31|         4| 15153|\n",
      "| Sunny| 32|         3|  5620|\n",
      "|Mahesh| 35|         1|  8920|\n",
      "|  Raja| 65|         9| 99900|\n",
      "+------+---+----------+------+\n",
      "\n"
     ]
    }
   ],
   "source": [
    "# dropping the column on basis of null value\n",
    "# This will drop all the value where are null.\n",
    "df_pyspark.na.drop().show()\n",
    "\n",
    "# this is similar to  df_pyspark.na.drop(how=\"any\")\n",
    "#by default the how is any "
   ]
  },
  {
   "cell_type": "code",
   "execution_count": 17,
   "id": "2729c206",
   "metadata": {},
   "outputs": [
    {
     "name": "stdout",
     "output_type": "stream",
     "text": [
      "+------+----+----------+------+\n",
      "|  Name| age|Experience|Salary|\n",
      "+------+----+----------+------+\n",
      "|Deepak|  28|         5| 30000|\n",
      "|   Ram|  30|         5| 15120|\n",
      "| Shyam|  31|         4| 15153|\n",
      "| Sunny|  32|         3|  5620|\n",
      "|Mahesh|  35|         1|  8920|\n",
      "|  Raja|  65|         9| 99900|\n",
      "|Ramesh|null|      null| 44456|\n",
      "|  null|null|      null|  null|\n",
      "|  null|  34|         2|  null|\n",
      "|  null|  40|      null| 30000|\n",
      "+------+----+----------+------+\n",
      "\n"
     ]
    }
   ],
   "source": [
    "df_pyspark.show()"
   ]
  },
  {
   "cell_type": "code",
   "execution_count": 18,
   "id": "80cef748",
   "metadata": {},
   "outputs": [
    {
     "name": "stdout",
     "output_type": "stream",
     "text": [
      "+------+----+----------+------+\n",
      "|  Name| age|Experience|Salary|\n",
      "+------+----+----------+------+\n",
      "|Deepak|  28|         5| 30000|\n",
      "|   Ram|  30|         5| 15120|\n",
      "| Shyam|  31|         4| 15153|\n",
      "| Sunny|  32|         3|  5620|\n",
      "|Mahesh|  35|         1|  8920|\n",
      "|  Raja|  65|         9| 99900|\n",
      "|Ramesh|null|      null| 44456|\n",
      "|  null|  34|         2|  null|\n",
      "|  null|  40|      null| 30000|\n",
      "+------+----+----------+------+\n",
      "\n"
     ]
    }
   ],
   "source": [
    "# dropping the column with all null value\n",
    "\n",
    "df_pyspark.na.drop(how=\"all\").show()\n",
    "\n",
    "# Hence we can the column with all none/null value was dropped."
   ]
  },
  {
   "cell_type": "code",
   "execution_count": 21,
   "id": "634167a4",
   "metadata": {},
   "outputs": [
    {
     "name": "stdout",
     "output_type": "stream",
     "text": [
      "+------+----+----------+------+\n",
      "|  Name| age|Experience|Salary|\n",
      "+------+----+----------+------+\n",
      "|Deepak|  28|         5| 30000|\n",
      "|   Ram|  30|         5| 15120|\n",
      "| Shyam|  31|         4| 15153|\n",
      "| Sunny|  32|         3|  5620|\n",
      "|Mahesh|  35|         1|  8920|\n",
      "|  Raja|  65|         9| 99900|\n",
      "|Ramesh|null|      null| 44456|\n",
      "|  null|  34|         2|  null|\n",
      "|  null|  40|      null| 30000|\n",
      "+------+----+----------+------+\n",
      "\n"
     ]
    }
   ],
   "source": [
    "# threshold\n",
    "df_pyspark.na.drop(how=\"all\",thresh=2).show()\n",
    "\n",
    "# this will check for atleast 2 non-null value, if atleast 2 non-nul value is present then it will not delete the column."
   ]
  },
  {
   "cell_type": "code",
   "execution_count": 24,
   "id": "995f355b",
   "metadata": {},
   "outputs": [
    {
     "name": "stdout",
     "output_type": "stream",
     "text": [
      "+------+---+----------+------+\n",
      "|  Name|age|Experience|Salary|\n",
      "+------+---+----------+------+\n",
      "|Deepak| 28|         5| 30000|\n",
      "|   Ram| 30|         5| 15120|\n",
      "| Shyam| 31|         4| 15153|\n",
      "| Sunny| 32|         3|  5620|\n",
      "|Mahesh| 35|         1|  8920|\n",
      "|  Raja| 65|         9| 99900|\n",
      "|  null| 34|         2|  null|\n",
      "+------+---+----------+------+\n",
      "\n"
     ]
    }
   ],
   "source": [
    "# subset \n",
    "df_pyspark.na.drop(how=\"any\", subset=['Experience']).show()\n",
    "\n",
    "# This will delete the null value from experience column"
   ]
  },
  {
   "cell_type": "code",
   "execution_count": 25,
   "id": "6f782d0a",
   "metadata": {},
   "outputs": [
    {
     "name": "stdout",
     "output_type": "stream",
     "text": [
      "+-------------+----+----------+------+\n",
      "|         Name| age|Experience|Salary|\n",
      "+-------------+----+----------+------+\n",
      "|       Deepak|  28|         5| 30000|\n",
      "|          Ram|  30|         5| 15120|\n",
      "|        Shyam|  31|         4| 15153|\n",
      "|        Sunny|  32|         3|  5620|\n",
      "|       Mahesh|  35|         1|  8920|\n",
      "|         Raja|  65|         9| 99900|\n",
      "|       Ramesh|null|      null| 44456|\n",
      "|Missing Value|null|      null|  null|\n",
      "|Missing Value|  34|         2|  null|\n",
      "|Missing Value|  40|      null| 30000|\n",
      "+-------------+----+----------+------+\n",
      "\n"
     ]
    }
   ],
   "source": [
    "# Filling the mising value\n",
    "df_pyspark.na.fill('Missing Value').show()\n",
    "# this will fill the value in the column with null valueas missing value"
   ]
  },
  {
   "cell_type": "code",
   "execution_count": 28,
   "id": "efee04b4",
   "metadata": {},
   "outputs": [
    {
     "name": "stdout",
     "output_type": "stream",
     "text": [
      "+-------------+----+----------+------+\n",
      "|         Name| age|Experience|Salary|\n",
      "+-------------+----+----------+------+\n",
      "|       Deepak|  28|         5| 30000|\n",
      "|          Ram|  30|         5| 15120|\n",
      "|        Shyam|  31|         4| 15153|\n",
      "|        Sunny|  32|         3|  5620|\n",
      "|       Mahesh|  35|         1|  8920|\n",
      "|         Raja|  65|         9| 99900|\n",
      "|       Ramesh|null|      null| 44456|\n",
      "|Missing Value|null|      null|  null|\n",
      "|Missing Value|  34|         2|  null|\n",
      "|Missing Value|  40|      null| 30000|\n",
      "+-------------+----+----------+------+\n",
      "\n"
     ]
    }
   ],
   "source": [
    "df_pyspark.na.fill('Missing Value').show()"
   ]
  },
  {
   "cell_type": "code",
   "execution_count": 29,
   "id": "1c27ec5b",
   "metadata": {},
   "outputs": [],
   "source": [
    "from pyspark.ml.feature import Imputer\n",
    "\n",
    "imputer = Imputer(\n",
    "    inputCols=['age', 'Experience', 'Salary'], \n",
    "    outputCols=[\"{}_imputed\".format(c) for c in ['age', 'Experience', 'Salary']]\n",
    "    ).setStrategy(\"median\")"
   ]
  },
  {
   "cell_type": "code",
   "execution_count": 30,
   "id": "78c6da28",
   "metadata": {},
   "outputs": [
    {
     "name": "stdout",
     "output_type": "stream",
     "text": [
      "+------+----+----------+------+-----------+------------------+--------------+\n",
      "|  Name| age|Experience|Salary|age_imputed|Experience_imputed|Salary_imputed|\n",
      "+------+----+----------+------+-----------+------------------+--------------+\n",
      "|Deepak|  28|         5| 30000|         28|                 5|         30000|\n",
      "|   Ram|  30|         5| 15120|         30|                 5|         15120|\n",
      "| Shyam|  31|         4| 15153|         31|                 4|         15153|\n",
      "| Sunny|  32|         3|  5620|         32|                 3|          5620|\n",
      "|Mahesh|  35|         1|  8920|         35|                 1|          8920|\n",
      "|  Raja|  65|         9| 99900|         65|                 9|         99900|\n",
      "|Ramesh|null|      null| 44456|         32|                 4|         44456|\n",
      "|  null|null|      null|  null|         32|                 4|         15153|\n",
      "|  null|  34|         2|  null|         34|                 2|         15153|\n",
      "|  null|  40|      null| 30000|         40|                 4|         30000|\n",
      "+------+----+----------+------+-----------+------------------+--------------+\n",
      "\n"
     ]
    }
   ],
   "source": [
    "# Add imputation cols to df\n",
    "imputer.fit(df_pyspark).transform(df_pyspark).show()"
   ]
  },
  {
   "cell_type": "code",
   "execution_count": 33,
   "id": "bf4bfad8",
   "metadata": {},
   "outputs": [],
   "source": [
    "from pyspark.ml.feature import Imputer\n",
    "\n",
    "imputer = Imputer(\n",
    "    inputCols=['age', 'Experience', 'Salary'], \n",
    "    outputCols=[\"{}_imputed\".format(c) for c in ['age', 'Experience', 'Salary']]\n",
    "    ).setStrategy(\"mean\")"
   ]
  },
  {
   "cell_type": "code",
   "execution_count": 32,
   "id": "441c3a7d",
   "metadata": {},
   "outputs": [
    {
     "name": "stdout",
     "output_type": "stream",
     "text": [
      "+------+----+----------+------+-----------+------------------+--------------+\n",
      "|  Name| age|Experience|Salary|age_imputed|Experience_imputed|Salary_imputed|\n",
      "+------+----+----------+------+-----------+------------------+--------------+\n",
      "|Deepak|  28|         5| 30000|         28|                 5|         30000|\n",
      "|   Ram|  30|         5| 15120|         30|                 5|         15120|\n",
      "| Shyam|  31|         4| 15153|         31|                 4|         15153|\n",
      "| Sunny|  32|         3|  5620|         32|                 3|          5620|\n",
      "|Mahesh|  35|         1|  8920|         35|                 1|          8920|\n",
      "|  Raja|  65|         9| 99900|         65|                 9|         99900|\n",
      "|Ramesh|null|      null| 44456|         36|                 4|         44456|\n",
      "|  null|null|      null|  null|         36|                 4|         31146|\n",
      "|  null|  34|         2|  null|         34|                 2|         31146|\n",
      "|  null|  40|      null| 30000|         40|                 4|         30000|\n",
      "+------+----+----------+------+-----------+------------------+--------------+\n",
      "\n"
     ]
    }
   ],
   "source": [
    "# Add imputation cols to df\n",
    "imputer.fit(df_pyspark).transform(df_pyspark).show()"
   ]
  },
  {
   "cell_type": "code",
   "execution_count": null,
   "id": "608a089e",
   "metadata": {},
   "outputs": [],
   "source": []
  }
 ],
 "metadata": {
  "kernelspec": {
   "display_name": "Python 3 (ipykernel)",
   "language": "python",
   "name": "python3"
  },
  "language_info": {
   "codemirror_mode": {
    "name": "ipython",
    "version": 3
   },
   "file_extension": ".py",
   "mimetype": "text/x-python",
   "name": "python",
   "nbconvert_exporter": "python",
   "pygments_lexer": "ipython3",
   "version": "3.9.7"
  }
 },
 "nbformat": 4,
 "nbformat_minor": 5
}
