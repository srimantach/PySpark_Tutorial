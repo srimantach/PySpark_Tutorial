{
 "cells": [
  {
   "cell_type": "markdown",
   "id": "1b6b74e3",
   "metadata": {},
   "source": [
    "# In this Repository We will Cover:\n",
    "\n",
    "1. PySpark Dataframe\n",
    "2. Reading The Dataset\n",
    "3. Checking the Datatypes of the Column(Schema)\n",
    "4. Selecting Columns And Indexing\n",
    "5. Check Describe option similar to Pandas\n",
    "6. Adding Columns\n",
    "7. Dropping columns\n",
    "8. Renaming Columns"
   ]
  },
  {
   "cell_type": "code",
   "execution_count": 86,
   "id": "66b9f40a",
   "metadata": {},
   "outputs": [
    {
     "name": "stdout",
     "output_type": "stream",
     "text": [
      "Requirement already satisfied: pyspark in c:\\users\\hp\\anaconda3\\lib\\site-packages (3.2.1)\n",
      "Requirement already satisfied: py4j==0.10.9.3 in c:\\users\\hp\\anaconda3\\lib\\site-packages (from pyspark) (0.10.9.3)\n"
     ]
    }
   ],
   "source": [
    "!pip install pyspark"
   ]
  },
  {
   "cell_type": "code",
   "execution_count": null,
   "id": "84d28e29",
   "metadata": {},
   "outputs": [],
   "source": [
    "import pyspark"
   ]
  },
  {
   "cell_type": "code",
   "execution_count": 2,
   "id": "08c7e9aa",
   "metadata": {},
   "outputs": [],
   "source": [
    "import pandas as pd"
   ]
  },
  {
   "cell_type": "code",
   "execution_count": 27,
   "id": "ff37569d",
   "metadata": {},
   "outputs": [
    {
     "data": {
      "text/html": [
       "<div>\n",
       "<style scoped>\n",
       "    .dataframe tbody tr th:only-of-type {\n",
       "        vertical-align: middle;\n",
       "    }\n",
       "\n",
       "    .dataframe tbody tr th {\n",
       "        vertical-align: top;\n",
       "    }\n",
       "\n",
       "    .dataframe thead th {\n",
       "        text-align: right;\n",
       "    }\n",
       "</style>\n",
       "<table border=\"1\" class=\"dataframe\">\n",
       "  <thead>\n",
       "    <tr style=\"text-align: right;\">\n",
       "      <th></th>\n",
       "      <th>Name</th>\n",
       "      <th>Age</th>\n",
       "    </tr>\n",
       "  </thead>\n",
       "  <tbody>\n",
       "    <tr>\n",
       "      <th>0</th>\n",
       "      <td>Deepak</td>\n",
       "      <td>28</td>\n",
       "    </tr>\n",
       "    <tr>\n",
       "      <th>1</th>\n",
       "      <td>Ram</td>\n",
       "      <td>32</td>\n",
       "    </tr>\n",
       "    <tr>\n",
       "      <th>2</th>\n",
       "      <td>Shyam</td>\n",
       "      <td>33</td>\n",
       "    </tr>\n",
       "  </tbody>\n",
       "</table>\n",
       "</div>"
      ],
      "text/plain": [
       "    Name   Age\n",
       "0  Deepak   28\n",
       "1     Ram   32\n",
       "2   Shyam   33"
      ]
     },
     "execution_count": 27,
     "metadata": {},
     "output_type": "execute_result"
    }
   ],
   "source": [
    "pd1 = pd.read_csv(\"test1.csv\")\n",
    "pd1"
   ]
  },
  {
   "cell_type": "code",
   "execution_count": 28,
   "id": "1f0341dd",
   "metadata": {},
   "outputs": [
    {
     "data": {
      "text/plain": [
       "pandas.core.frame.DataFrame"
      ]
     },
     "execution_count": 28,
     "metadata": {},
     "output_type": "execute_result"
    }
   ],
   "source": [
    "type(pd1)"
   ]
  },
  {
   "cell_type": "code",
   "execution_count": 4,
   "id": "2c481658",
   "metadata": {},
   "outputs": [],
   "source": [
    "from pyspark.sql import SparkSession"
   ]
  },
  {
   "cell_type": "code",
   "execution_count": 6,
   "id": "aacbd1b5",
   "metadata": {},
   "outputs": [],
   "source": [
    "spark = SparkSession.builder.appName('practise').getOrCreate()"
   ]
  },
  {
   "cell_type": "code",
   "execution_count": 7,
   "id": "07ce89a9",
   "metadata": {},
   "outputs": [
    {
     "data": {
      "text/html": [
       "\n",
       "            <div>\n",
       "                <p><b>SparkSession - in-memory</b></p>\n",
       "                \n",
       "        <div>\n",
       "            <p><b>SparkContext</b></p>\n",
       "\n",
       "            <p><a href=\"http://DESKTOP-D1EJU4V:4040\">Spark UI</a></p>\n",
       "\n",
       "            <dl>\n",
       "              <dt>Version</dt>\n",
       "                <dd><code>v3.2.1</code></dd>\n",
       "              <dt>Master</dt>\n",
       "                <dd><code>local[*]</code></dd>\n",
       "              <dt>AppName</dt>\n",
       "                <dd><code>practise</code></dd>\n",
       "            </dl>\n",
       "        </div>\n",
       "        \n",
       "            </div>\n",
       "        "
      ],
      "text/plain": [
       "<pyspark.sql.session.SparkSession at 0x1d45b1fffa0>"
      ]
     },
     "execution_count": 7,
     "metadata": {},
     "output_type": "execute_result"
    }
   ],
   "source": [
    "spark"
   ]
  },
  {
   "cell_type": "code",
   "execution_count": 8,
   "id": "d7f8c403",
   "metadata": {},
   "outputs": [],
   "source": [
    "df_pyspark = spark.read.csv('test1.csv')"
   ]
  },
  {
   "cell_type": "code",
   "execution_count": 12,
   "id": "065bd4ff",
   "metadata": {},
   "outputs": [
    {
     "data": {
      "text/plain": [
       "DataFrame[_c0: string, _c1: string]"
      ]
     },
     "execution_count": 12,
     "metadata": {},
     "output_type": "execute_result"
    }
   ],
   "source": [
    "df_pyspark"
   ]
  },
  {
   "cell_type": "code",
   "execution_count": 13,
   "id": "e7c50435",
   "metadata": {},
   "outputs": [
    {
     "name": "stdout",
     "output_type": "stream",
     "text": [
      "+------+---+\n",
      "|   _c0|_c1|\n",
      "+------+---+\n",
      "| Name |Age|\n",
      "|Deepak| 28|\n",
      "|   Ram| 32|\n",
      "| Shyam| 33|\n",
      "+------+---+\n",
      "\n"
     ]
    }
   ],
   "source": [
    "df_pyspark.show()"
   ]
  },
  {
   "cell_type": "code",
   "execution_count": 14,
   "id": "13cb98d0",
   "metadata": {},
   "outputs": [
    {
     "data": {
      "text/plain": [
       "DataFrame[Name : string, Age: string]"
      ]
     },
     "execution_count": 14,
     "metadata": {},
     "output_type": "execute_result"
    }
   ],
   "source": [
    "spark.read.option('header', 'true').csv('test1.csv')"
   ]
  },
  {
   "cell_type": "code",
   "execution_count": 16,
   "id": "a56c4ed3",
   "metadata": {},
   "outputs": [
    {
     "name": "stdout",
     "output_type": "stream",
     "text": [
      "+------+---+\n",
      "| Name |Age|\n",
      "+------+---+\n",
      "|Deepak| 28|\n",
      "|   Ram| 32|\n",
      "| Shyam| 33|\n",
      "+------+---+\n",
      "\n"
     ]
    }
   ],
   "source": [
    "spark.read.option('header', 'true').csv('test1.csv').show()"
   ]
  },
  {
   "cell_type": "code",
   "execution_count": 23,
   "id": "361f1858",
   "metadata": {},
   "outputs": [],
   "source": [
    "df_pyspark = spark.read.option('header', 'true').csv('test1.csv')"
   ]
  },
  {
   "cell_type": "code",
   "execution_count": 24,
   "id": "7d2b62c8",
   "metadata": {},
   "outputs": [
    {
     "data": {
      "text/plain": [
       "pyspark.sql.dataframe.DataFrame"
      ]
     },
     "execution_count": 24,
     "metadata": {},
     "output_type": "execute_result"
    }
   ],
   "source": [
    "type(df_pyspark)"
   ]
  },
  {
   "cell_type": "code",
   "execution_count": 25,
   "id": "10b1b271",
   "metadata": {},
   "outputs": [
    {
     "data": {
      "text/plain": [
       "[Row(Name ='Deepak', Age='28'),\n",
       " Row(Name ='Ram', Age='32'),\n",
       " Row(Name ='Shyam', Age='33')]"
      ]
     },
     "execution_count": 25,
     "metadata": {},
     "output_type": "execute_result"
    }
   ],
   "source": [
    "df_pyspark.head(3)"
   ]
  },
  {
   "cell_type": "code",
   "execution_count": 29,
   "id": "8898b150",
   "metadata": {},
   "outputs": [
    {
     "name": "stdout",
     "output_type": "stream",
     "text": [
      "root\n",
      " |-- Name : string (nullable = true)\n",
      " |-- Age: string (nullable = true)\n",
      "\n"
     ]
    }
   ],
   "source": [
    "df_pyspark.printSchema()"
   ]
  },
  {
   "cell_type": "code",
   "execution_count": 34,
   "id": "b4295759",
   "metadata": {},
   "outputs": [
    {
     "name": "stdout",
     "output_type": "stream",
     "text": [
      "+------+---+----------+\n",
      "| Name |Age|Experience|\n",
      "+------+---+----------+\n",
      "|Deepak| 28|         5|\n",
      "|   Ram| 32|         6|\n",
      "| Shyam| 33|         7|\n",
      "+------+---+----------+\n",
      "\n"
     ]
    }
   ],
   "source": [
    "#read the dataset\n",
    "spark.read.option('header','true').csv('test1.csv').show()\n",
    "\n",
    "df_pyspark1 = spark.read.option('header','true').csv('test1.csv')"
   ]
  },
  {
   "cell_type": "code",
   "execution_count": 35,
   "id": "18b71e8a",
   "metadata": {},
   "outputs": [
    {
     "name": "stdout",
     "output_type": "stream",
     "text": [
      "root\n",
      " |-- Name : string (nullable = true)\n",
      " |-- Age: string (nullable = true)\n",
      " |-- Experience: string (nullable = true)\n",
      "\n"
     ]
    }
   ],
   "source": [
    "# check the schema\n",
    "df_pyspark1.printSchema()\n"
   ]
  },
  {
   "cell_type": "code",
   "execution_count": 36,
   "id": "06d9dc9b",
   "metadata": {},
   "outputs": [],
   "source": [
    "# Since for all it will show as string, so to have the specific datatype, we use inferSchema = True\n",
    "df_pyspark1 = spark.read.option('header','true').csv('test1.csv', inferSchema = True)"
   ]
  },
  {
   "cell_type": "code",
   "execution_count": 37,
   "id": "9e75f47a",
   "metadata": {},
   "outputs": [
    {
     "name": "stdout",
     "output_type": "stream",
     "text": [
      "root\n",
      " |-- Name : string (nullable = true)\n",
      " |-- Age: integer (nullable = true)\n",
      " |-- Experience: integer (nullable = true)\n",
      "\n"
     ]
    }
   ],
   "source": [
    "df_pyspark1.printSchema()"
   ]
  },
  {
   "cell_type": "code",
   "execution_count": 39,
   "id": "b78e4116",
   "metadata": {},
   "outputs": [],
   "source": [
    "df_pyspark1 = spark.read.csv('test1.csv', header=True, inferSchema=True)"
   ]
  },
  {
   "cell_type": "code",
   "execution_count": 41,
   "id": "8dffecb2",
   "metadata": {},
   "outputs": [
    {
     "name": "stdout",
     "output_type": "stream",
     "text": [
      "+------+---+----------+\n",
      "| Name |Age|Experience|\n",
      "+------+---+----------+\n",
      "|Deepak| 28|         5|\n",
      "|   Ram| 32|         6|\n",
      "| Shyam| 33|         7|\n",
      "+------+---+----------+\n",
      "\n"
     ]
    }
   ],
   "source": [
    "df_pyspark1.show()"
   ]
  },
  {
   "cell_type": "code",
   "execution_count": 42,
   "id": "e9bf4c38",
   "metadata": {},
   "outputs": [
    {
     "name": "stdout",
     "output_type": "stream",
     "text": [
      "root\n",
      " |-- Name : string (nullable = true)\n",
      " |-- Age: integer (nullable = true)\n",
      " |-- Experience: integer (nullable = true)\n",
      "\n"
     ]
    }
   ],
   "source": [
    "# check the schema\n",
    "df_pyspark1.printSchema()"
   ]
  },
  {
   "cell_type": "code",
   "execution_count": 43,
   "id": "b5571c08",
   "metadata": {},
   "outputs": [
    {
     "data": {
      "text/plain": [
       "pyspark.sql.dataframe.DataFrame"
      ]
     },
     "execution_count": 43,
     "metadata": {},
     "output_type": "execute_result"
    }
   ],
   "source": [
    "type(df_pyspark1)"
   ]
  },
  {
   "cell_type": "code",
   "execution_count": 46,
   "id": "7ae8cc49",
   "metadata": {},
   "outputs": [
    {
     "data": {
      "text/plain": [
       "['Name ', 'Age', 'Experience']"
      ]
     },
     "execution_count": 46,
     "metadata": {},
     "output_type": "execute_result"
    }
   ],
   "source": [
    "# getting coloum name\n",
    "df_pyspark1.columns"
   ]
  },
  {
   "cell_type": "code",
   "execution_count": 47,
   "id": "97e1386c",
   "metadata": {},
   "outputs": [
    {
     "data": {
      "text/plain": [
       "[Row(Name ='Deepak', Age=28, Experience=5),\n",
       " Row(Name ='Ram', Age=32, Experience=6),\n",
       " Row(Name ='Shyam', Age=33, Experience=7)]"
      ]
     },
     "execution_count": 47,
     "metadata": {},
     "output_type": "execute_result"
    }
   ],
   "source": [
    "df_pyspark1.head(3)"
   ]
  },
  {
   "cell_type": "code",
   "execution_count": 49,
   "id": "cb7de397",
   "metadata": {},
   "outputs": [
    {
     "name": "stdout",
     "output_type": "stream",
     "text": [
      "+------+---+----------+\n",
      "| Name |Age|Experience|\n",
      "+------+---+----------+\n",
      "|Deepak| 28|         5|\n",
      "|   Ram| 32|         6|\n",
      "| Shyam| 33|         7|\n",
      "+------+---+----------+\n",
      "\n"
     ]
    }
   ],
   "source": [
    "df_pyspark1.show()"
   ]
  },
  {
   "cell_type": "code",
   "execution_count": 56,
   "id": "1e6f5bd7",
   "metadata": {},
   "outputs": [
    {
     "data": {
      "text/plain": [
       "DataFrame[Age: int]"
      ]
     },
     "execution_count": 56,
     "metadata": {},
     "output_type": "execute_result"
    }
   ],
   "source": [
    "#selecting the columns\n",
    "df_pyspark1.select('Age')"
   ]
  },
  {
   "cell_type": "code",
   "execution_count": 57,
   "id": "01e80949",
   "metadata": {},
   "outputs": [
    {
     "name": "stdout",
     "output_type": "stream",
     "text": [
      "+---+\n",
      "|Age|\n",
      "+---+\n",
      "| 28|\n",
      "| 32|\n",
      "| 33|\n",
      "+---+\n",
      "\n"
     ]
    }
   ],
   "source": [
    "df_pyspark1.select('Age').show()"
   ]
  },
  {
   "cell_type": "code",
   "execution_count": 58,
   "id": "a840871e",
   "metadata": {},
   "outputs": [
    {
     "data": {
      "text/plain": [
       "pyspark.sql.dataframe.DataFrame"
      ]
     },
     "execution_count": 58,
     "metadata": {},
     "output_type": "execute_result"
    }
   ],
   "source": [
    "type(df_pyspark)"
   ]
  },
  {
   "cell_type": "code",
   "execution_count": 59,
   "id": "ffc2ea18",
   "metadata": {},
   "outputs": [
    {
     "data": {
      "text/plain": [
       "DataFrame[Age: int, Experience: int]"
      ]
     },
     "execution_count": 59,
     "metadata": {},
     "output_type": "execute_result"
    }
   ],
   "source": [
    "#selecting Multiple colums\n",
    "\n",
    "df_pyspark1.select('Age','Experience')"
   ]
  },
  {
   "cell_type": "code",
   "execution_count": 60,
   "id": "c800f2ea",
   "metadata": {},
   "outputs": [
    {
     "name": "stdout",
     "output_type": "stream",
     "text": [
      "+---+----------+\n",
      "|Age|Experience|\n",
      "+---+----------+\n",
      "| 28|         5|\n",
      "| 32|         6|\n",
      "| 33|         7|\n",
      "+---+----------+\n",
      "\n"
     ]
    }
   ],
   "source": [
    "df_pyspark1.select('Age','Experience').show()"
   ]
  },
  {
   "cell_type": "code",
   "execution_count": 64,
   "id": "e664f3b5",
   "metadata": {},
   "outputs": [
    {
     "data": {
      "text/plain": [
       "Column<'Age'>"
      ]
     },
     "execution_count": 64,
     "metadata": {},
     "output_type": "execute_result"
    }
   ],
   "source": [
    "# describing the dataframe\n",
    "df_pyspark1['Age']"
   ]
  },
  {
   "cell_type": "code",
   "execution_count": 65,
   "id": "7599f014",
   "metadata": {},
   "outputs": [
    {
     "data": {
      "text/plain": [
       "[('Name ', 'string'), ('Age', 'int'), ('Experience', 'int')]"
      ]
     },
     "execution_count": 65,
     "metadata": {},
     "output_type": "execute_result"
    }
   ],
   "source": [
    "df_pyspark1.dtypes"
   ]
  },
  {
   "cell_type": "code",
   "execution_count": 69,
   "id": "6792e856",
   "metadata": {},
   "outputs": [
    {
     "data": {
      "text/plain": [
       "DataFrame[summary: string, Name : string, Age: string, Experience: string]"
      ]
     },
     "execution_count": 69,
     "metadata": {},
     "output_type": "execute_result"
    }
   ],
   "source": [
    "df_pyspark1.describe()"
   ]
  },
  {
   "cell_type": "code",
   "execution_count": 68,
   "id": "11b7ef2b",
   "metadata": {},
   "outputs": [
    {
     "name": "stdout",
     "output_type": "stream",
     "text": [
      "+-------+------+------------------+----------+\n",
      "|summary| Name |               Age|Experience|\n",
      "+-------+------+------------------+----------+\n",
      "|  count|     3|                 3|         3|\n",
      "|   mean|  null|              31.0|       6.0|\n",
      "| stddev|  null|2.6457513110645907|       1.0|\n",
      "|    min|Deepak|                28|         5|\n",
      "|    max| Shyam|                33|         7|\n",
      "+-------+------+------------------+----------+\n",
      "\n"
     ]
    }
   ],
   "source": [
    "df_pyspark1.describe().show()"
   ]
  },
  {
   "cell_type": "code",
   "execution_count": 79,
   "id": "ab83c3c5",
   "metadata": {},
   "outputs": [
    {
     "data": {
      "text/plain": [
       "DataFrame[Name : string, Age: int, Experience: int, Experience After 2 Year: int]"
      ]
     },
     "execution_count": 79,
     "metadata": {},
     "output_type": "execute_result"
    }
   ],
   "source": [
    "# Adding columns and dropping columns\n",
    "\n",
    "## we can add column by the help of withColumn function\n",
    "df_pyspark1.withColumn('Experience After 2 Year', df_pyspark1['Experience']+3)"
   ]
  },
  {
   "cell_type": "code",
   "execution_count": 77,
   "id": "0c517b37",
   "metadata": {},
   "outputs": [],
   "source": [
    "df_pyspark3= df_pyspark1.withColumn('Experience After 2 Year', df_pyspark1['Experience']+3)"
   ]
  },
  {
   "cell_type": "code",
   "execution_count": 78,
   "id": "0f8ee433",
   "metadata": {},
   "outputs": [
    {
     "name": "stdout",
     "output_type": "stream",
     "text": [
      "+------+---+----------+-----------------------+\n",
      "| Name |Age|Experience|Experience After 2 Year|\n",
      "+------+---+----------+-----------------------+\n",
      "|Deepak| 28|         5|                      8|\n",
      "|   Ram| 32|         6|                      9|\n",
      "| Shyam| 33|         7|                     10|\n",
      "+------+---+----------+-----------------------+\n",
      "\n"
     ]
    }
   ],
   "source": [
    "df_pyspark3.show()"
   ]
  },
  {
   "cell_type": "code",
   "execution_count": 80,
   "id": "51959d00",
   "metadata": {},
   "outputs": [
    {
     "data": {
      "text/plain": [
       "DataFrame[Name : string, Age: int, Experience: int]"
      ]
     },
     "execution_count": 80,
     "metadata": {},
     "output_type": "execute_result"
    }
   ],
   "source": [
    "## Drop the column\n",
    "df_pyspark.drop('Experience After 2 Year')"
   ]
  },
  {
   "cell_type": "code",
   "execution_count": 81,
   "id": "34171dc3",
   "metadata": {},
   "outputs": [
    {
     "name": "stdout",
     "output_type": "stream",
     "text": [
      "+------+---+----------+\n",
      "| Name |Age|Experience|\n",
      "+------+---+----------+\n",
      "|Deepak| 28|         5|\n",
      "|   Ram| 32|         6|\n",
      "| Shyam| 33|         7|\n",
      "+------+---+----------+\n",
      "\n"
     ]
    }
   ],
   "source": [
    "df_pyspark.drop('Experience After 2 Year').show()"
   ]
  },
  {
   "cell_type": "code",
   "execution_count": 85,
   "id": "99362d4e",
   "metadata": {},
   "outputs": [
    {
     "name": "stdout",
     "output_type": "stream",
     "text": [
      "+------+-------+----------+-----------------------+\n",
      "| Name |New Age|Experience|Experience After 2 Year|\n",
      "+------+-------+----------+-----------------------+\n",
      "|Deepak|     28|         5|                      8|\n",
      "|   Ram|     32|         6|                      9|\n",
      "| Shyam|     33|         7|                     10|\n",
      "+------+-------+----------+-----------------------+\n",
      "\n"
     ]
    }
   ],
   "source": [
    "# Rename the column\n",
    "df_pyspark.withColumnRenamed('Age','New Age').show()"
   ]
  },
  {
   "cell_type": "code",
   "execution_count": null,
   "id": "54b6ba49",
   "metadata": {},
   "outputs": [],
   "source": []
  }
 ],
 "metadata": {
  "kernelspec": {
   "display_name": "Python 3 (ipykernel)",
   "language": "python",
   "name": "python3"
  },
  "language_info": {
   "codemirror_mode": {
    "name": "ipython",
    "version": 3
   },
   "file_extension": ".py",
   "mimetype": "text/x-python",
   "name": "python",
   "nbconvert_exporter": "python",
   "pygments_lexer": "ipython3",
   "version": "3.9.7"
  }
 },
 "nbformat": 4,
 "nbformat_minor": 5
}
