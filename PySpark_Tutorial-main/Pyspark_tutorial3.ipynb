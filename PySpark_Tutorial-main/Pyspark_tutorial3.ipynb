{
 "cells": [
  {
   "cell_type": "markdown",
   "id": "95cabf4d",
   "metadata": {},
   "source": [
    "# Pyspark Dataframes\n",
    "\n",
    "1. Filter Operation\n",
    "2. &,|,== (and, Or, equal to)\n",
    "3. ~ (inverse or not)"
   ]
  },
  {
   "cell_type": "code",
   "execution_count": 1,
   "id": "91d05b0b",
   "metadata": {},
   "outputs": [],
   "source": [
    "from pyspark.sql import SparkSession"
   ]
  },
  {
   "cell_type": "code",
   "execution_count": 2,
   "id": "c18abbee",
   "metadata": {},
   "outputs": [],
   "source": [
    "spark = SparkSession.builder.appName('Dataframe').getOrCreate()"
   ]
  },
  {
   "cell_type": "code",
   "execution_count": 3,
   "id": "3a239519",
   "metadata": {},
   "outputs": [],
   "source": [
    "df_pyspark = spark.read.csv('test2.csv', header= True, inferSchema=True)"
   ]
  },
  {
   "cell_type": "code",
   "execution_count": 5,
   "id": "d38034ec",
   "metadata": {},
   "outputs": [
    {
     "name": "stdout",
     "output_type": "stream",
     "text": [
      "+------+---+----------+------+\n",
      "|  Name|age|Experience|Salary|\n",
      "+------+---+----------+------+\n",
      "|Deepak| 28|         5| 30000|\n",
      "|   Ram| 30|         5| 15120|\n",
      "| Shyam| 31|         4| 15153|\n",
      "| Sunny| 32|         3|  5620|\n",
      "|Mahesh| 35|         1|  8920|\n",
      "|  Raja| 65|         9| 99900|\n",
      "|Ramesh| 34|         2| 44456|\n",
      "+------+---+----------+------+\n",
      "\n"
     ]
    }
   ],
   "source": [
    "df_pyspark.show()"
   ]
  },
  {
   "cell_type": "markdown",
   "id": "2ef4ec69",
   "metadata": {},
   "source": [
    "## Filter Operation"
   ]
  },
  {
   "cell_type": "code",
   "execution_count": 6,
   "id": "fba04bcf",
   "metadata": {},
   "outputs": [
    {
     "data": {
      "text/plain": [
       "DataFrame[Name: string, age: int, Experience: int, Salary: int]"
      ]
     },
     "execution_count": 6,
     "metadata": {},
     "output_type": "execute_result"
    }
   ],
   "source": [
    "## Salary of the people less than or equal to 20000\n",
    "df_pyspark.filter(\"Salary<=20000\")"
   ]
  },
  {
   "cell_type": "code",
   "execution_count": 7,
   "id": "4d2bcb38",
   "metadata": {},
   "outputs": [
    {
     "name": "stdout",
     "output_type": "stream",
     "text": [
      "+------+---+----------+------+\n",
      "|  Name|age|Experience|Salary|\n",
      "+------+---+----------+------+\n",
      "|   Ram| 30|         5| 15120|\n",
      "| Shyam| 31|         4| 15153|\n",
      "| Sunny| 32|         3|  5620|\n",
      "|Mahesh| 35|         1|  8920|\n",
      "+------+---+----------+------+\n",
      "\n"
     ]
    }
   ],
   "source": [
    "df_pyspark.filter(\"Salary<=20000\").show()"
   ]
  },
  {
   "cell_type": "code",
   "execution_count": 8,
   "id": "412fc89e",
   "metadata": {},
   "outputs": [
    {
     "name": "stdout",
     "output_type": "stream",
     "text": [
      "+------+---+\n",
      "|  Name|age|\n",
      "+------+---+\n",
      "|   Ram| 30|\n",
      "| Shyam| 31|\n",
      "| Sunny| 32|\n",
      "|Mahesh| 35|\n",
      "+------+---+\n",
      "\n"
     ]
    }
   ],
   "source": [
    "df_pyspark.filter(\"Salary<=20000\").select(['Name', 'age']).show()"
   ]
  },
  {
   "cell_type": "code",
   "execution_count": 10,
   "id": "d410d7cb",
   "metadata": {},
   "outputs": [
    {
     "name": "stdout",
     "output_type": "stream",
     "text": [
      "+------+---+----------+------+\n",
      "|  Name|age|Experience|Salary|\n",
      "+------+---+----------+------+\n",
      "|   Ram| 30|         5| 15120|\n",
      "| Shyam| 31|         4| 15153|\n",
      "| Sunny| 32|         3|  5620|\n",
      "|Mahesh| 35|         1|  8920|\n",
      "+------+---+----------+------+\n",
      "\n"
     ]
    }
   ],
   "source": [
    "df_pyspark.filter(df_pyspark['Salary']<=20000).show()"
   ]
  },
  {
   "cell_type": "code",
   "execution_count": 11,
   "id": "12730cc3",
   "metadata": {},
   "outputs": [
    {
     "name": "stdout",
     "output_type": "stream",
     "text": [
      "+-----+---+----------+------+\n",
      "| Name|age|Experience|Salary|\n",
      "+-----+---+----------+------+\n",
      "|  Ram| 30|         5| 15120|\n",
      "|Shyam| 31|         4| 15153|\n",
      "+-----+---+----------+------+\n",
      "\n"
     ]
    }
   ],
   "source": [
    "# use of & and | operators\n",
    "# getting the salary between 15000 to 20000\n",
    "\n",
    "# & operator\n",
    "df_pyspark.filter((df_pyspark['Salary']<=20000) &\n",
    "                  (df_pyspark['Salary']>=15000)).show()\n",
    "\n"
   ]
  },
  {
   "cell_type": "code",
   "execution_count": 13,
   "id": "780c9a09",
   "metadata": {
    "scrolled": true
   },
   "outputs": [
    {
     "name": "stdout",
     "output_type": "stream",
     "text": [
      "+------+---+----------+------+\n",
      "|  Name|age|Experience|Salary|\n",
      "+------+---+----------+------+\n",
      "|Deepak| 28|         5| 30000|\n",
      "|   Ram| 30|         5| 15120|\n",
      "| Shyam| 31|         4| 15153|\n",
      "| Sunny| 32|         3|  5620|\n",
      "|Mahesh| 35|         1|  8920|\n",
      "|  Raja| 65|         9| 99900|\n",
      "|Ramesh| 34|         2| 44456|\n",
      "+------+---+----------+------+\n",
      "\n"
     ]
    }
   ],
   "source": [
    "# | operators\n",
    "\n",
    "df_pyspark.filter((df_pyspark['Salary']<=20000) |\n",
    "                  (df_pyspark['Salary']>=15000)).show()"
   ]
  },
  {
   "cell_type": "code",
   "execution_count": 15,
   "id": "f2276c35",
   "metadata": {},
   "outputs": [
    {
     "name": "stdout",
     "output_type": "stream",
     "text": [
      "+----+---+----------+------+\n",
      "|Name|age|Experience|Salary|\n",
      "+----+---+----------+------+\n",
      "+----+---+----------+------+\n",
      "\n"
     ]
    }
   ],
   "source": [
    "# == operators\n",
    "\n",
    "df_pyspark.filter((df_pyspark['Salary']==20000) |\n",
    "                  (df_pyspark['Salary']==15000)).show()\n",
    "# since there is no matching value hence return empty[]"
   ]
  },
  {
   "cell_type": "code",
   "execution_count": 16,
   "id": "d378cca6",
   "metadata": {
    "scrolled": true
   },
   "outputs": [
    {
     "name": "stdout",
     "output_type": "stream",
     "text": [
      "+------+---+----------+------+\n",
      "|  Name|age|Experience|Salary|\n",
      "+------+---+----------+------+\n",
      "|Deepak| 28|         5| 30000|\n",
      "|   Ram| 30|         5| 15120|\n",
      "| Shyam| 31|         4| 15153|\n",
      "|  Raja| 65|         9| 99900|\n",
      "|Ramesh| 34|         2| 44456|\n",
      "+------+---+----------+------+\n",
      "\n"
     ]
    }
   ],
   "source": [
    "df_pyspark.filter((df_pyspark['Salary']==30000) |\n",
    "                  (df_pyspark['Salary']>=15000)).show()"
   ]
  },
  {
   "cell_type": "code",
   "execution_count": 18,
   "id": "175c0b6d",
   "metadata": {},
   "outputs": [
    {
     "name": "stdout",
     "output_type": "stream",
     "text": [
      "+------+---+----------+------+\n",
      "|  Name|age|Experience|Salary|\n",
      "+------+---+----------+------+\n",
      "|   Ram| 30|         5| 15120|\n",
      "| Shyam| 31|         4| 15153|\n",
      "| Sunny| 32|         3|  5620|\n",
      "|Mahesh| 35|         1|  8920|\n",
      "|  Raja| 65|         9| 99900|\n",
      "|Ramesh| 34|         2| 44456|\n",
      "+------+---+----------+------+\n",
      "\n"
     ]
    }
   ],
   "source": [
    "# Inverse operator\n",
    "df_pyspark.filter(~(df_pyspark['Salary']==30000)).show()"
   ]
  }
 ],
 "metadata": {
  "kernelspec": {
   "display_name": "Python 3 (ipykernel)",
   "language": "python",
   "name": "python3"
  },
  "language_info": {
   "codemirror_mode": {
    "name": "ipython",
    "version": 3
   },
   "file_extension": ".py",
   "mimetype": "text/x-python",
   "name": "python",
   "nbconvert_exporter": "python",
   "pygments_lexer": "ipython3",
   "version": "3.9.7"
  }
 },
 "nbformat": 4,
 "nbformat_minor": 5
}
