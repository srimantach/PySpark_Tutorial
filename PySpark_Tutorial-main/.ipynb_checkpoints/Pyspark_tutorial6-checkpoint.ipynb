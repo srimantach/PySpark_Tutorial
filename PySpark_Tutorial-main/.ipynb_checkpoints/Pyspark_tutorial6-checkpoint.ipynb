{
 "cells": [
  {
   "cell_type": "markdown",
   "id": "a02760a6",
   "metadata": {},
   "source": [
    "# Overview\n",
    "This notebook will show you how to create and query a table or DataFrame that you uploaded to DBFS. DBFS is a Databricks File System that allows you to store data for querying inside of Databricks. This notebook assumes that you have a file already inside of DBFS that you would like to read from.\n",
    "\n",
    "This notebook is written in Python so the default cell type is Python. However, you can use different languages by using the %LANGUAGE syntax. Python, Scala, SQL, and R are all supported."
   ]
  },
  {
   "cell_type": "code",
   "execution_count": null,
   "id": "e7b24730",
   "metadata": {},
   "outputs": [],
   "source": [
    "# File location and type\n",
    "file_location = \"/FileStore/tables/tips.csv\"\n",
    "file_type = \"csv\"\n",
    "\n",
    "# The applied options are for CSV files. For other file types, these will be ignored.\n",
    "df =spark.read.csv(file_location,header=True,inferSchema=True)\n",
    "df.show()"
   ]
  },
  {
   "cell_type": "markdown",
   "id": "f1c4390d",
   "metadata": {},
   "source": [
    "+----------+----+------+------+---+------+----+ total_bill| tip| sex|smoker|day| time|size| +----------+----+------+------+---+------+----+ 16.99|1.01|Female| No|Sun|Dinner| 2| 10.34|1.66| Male| No|Sun|Dinner| 3| 21.01| 3.5| Male| No|Sun|Dinner| 3| 23.68|3.31| Male| No|Sun|Dinner| 2| 24.59|3.61|Female| No|Sun|Dinner| 4| 25.29|4.71| Male| No|Sun|Dinner| 4| 8.77| 2.0| Male| No|Sun|Dinner| 2| 26.88|3.12| Male| No|Sun|Dinner| 4| 15.04|1.96| Male| No|Sun|Dinner| 2| 14.78|3.23| Male| No|Sun|Dinner| 2| 10.27|1.71| Male| No|Sun|Dinner| 2| 35.26| 5.0|Female| No|Sun|Dinner| 4| 15.42|1.57| Male| No|Sun|Dinner| 2| 18.43| 3.0| Male| No|Sun|Dinner| 4| 14.83|3.02|Female| No|Sun|Dinner| 2| 21.58|3.92| Male| No|Sun|Dinner| 2| 10.33|1.67|Female| No|Sun|Dinner| 3| 16.29|3.71| Male| No|Sun|Dinner| 3| 16.97| 3.5|Female| No|Sun|Dinner| 3| 20.65|3.35| Male| No|Sat|Dinner| 3| +----------+----+------+------+---+------+----+ only showing top 20 rows"
   ]
  },
  {
   "cell_type": "code",
   "execution_count": null,
   "id": "07263d7b",
   "metadata": {},
   "outputs": [],
   "source": [
    "df.printSchema()"
   ]
  },
  {
   "cell_type": "markdown",
   "id": "0e7b4dfe",
   "metadata": {},
   "source": [
    "root -- total_bill: double (nullable = true) -- tip: double (nullable = true) -- sex: string (nullable = true) -- smoker: string (nullable = true) -- day: string (nullable = true) -- time: string (nullable = true) -- size: integer (nullable = true)"
   ]
  },
  {
   "cell_type": "code",
   "execution_count": null,
   "id": "c7528f38",
   "metadata": {},
   "outputs": [],
   "source": [
    "df.columns"
   ]
  },
  {
   "cell_type": "markdown",
   "id": "89897ee0",
   "metadata": {},
   "source": [
    "Out[3]: ['total_bill', 'tip', 'sex', 'smoker', 'day', 'time', 'size']"
   ]
  },
  {
   "cell_type": "code",
   "execution_count": null,
   "id": "8598808b",
   "metadata": {},
   "outputs": [],
   "source": [
    "### Handling Categorical Features\n",
    "from pyspark.ml.feature import StringIndexer"
   ]
  },
  {
   "cell_type": "code",
   "execution_count": null,
   "id": "81538046",
   "metadata": {},
   "outputs": [],
   "source": [
    "df.show()"
   ]
  },
  {
   "cell_type": "markdown",
   "id": "802d75ec",
   "metadata": {},
   "source": [
    "+----------+----+------+------+---+------+----+ total_bill| tip| sex|smoker|day| time|size| +----------+----+------+------+---+------+----+ 16.99|1.01|Female| No|Sun|Dinner| 2| 10.34|1.66| Male| No|Sun|Dinner| 3| 21.01| 3.5| Male| No|Sun|Dinner| 3| 23.68|3.31| Male| No|Sun|Dinner| 2| 24.59|3.61|Female| No|Sun|Dinner| 4| 25.29|4.71| Male| No|Sun|Dinner| 4| 8.77| 2.0| Male| No|Sun|Dinner| 2| 26.88|3.12| Male| No|Sun|Dinner| 4| 15.04|1.96| Male| No|Sun|Dinner| 2| 14.78|3.23| Male| No|Sun|Dinner| 2| 10.27|1.71| Male| No|Sun|Dinner| 2| 35.26| 5.0|Female| No|Sun|Dinner| 4| 15.42|1.57| Male| No|Sun|Dinner| 2| 18.43| 3.0| Male| No|Sun|Dinner| 4| 14.83|3.02|Female| No|Sun|Dinner| 2| 21.58|3.92| Male| No|Sun|Dinner| 2| 10.33|1.67|Female| No|Sun|Dinner| 3| 16.29|3.71| Male| No|Sun|Dinner| 3| 16.97| 3.5|Female| No|Sun|Dinner| 3| 20.65|3.35| Male| No|Sat|Dinner| 3| +----------+----+------+------+---+------+----+ only showing top 20 rows"
   ]
  },
  {
   "cell_type": "code",
   "execution_count": null,
   "id": "64b07add",
   "metadata": {},
   "outputs": [],
   "source": [
    "indexer=StringIndexer(inputCol=\"sex\",outputCol=\"sex_indexed\")\n",
    "df_r=indexer.fit(df).transform(df)\n",
    "df_r.show()"
   ]
  },
  {
   "cell_type": "markdown",
   "id": "403923f3",
   "metadata": {},
   "source": [
    "+----------+----+------+------+---+------+----+-----------+ total_bill| tip| sex|smoker|day| time|size|sex_indexed| +----------+----+------+------+---+------+----+-----------+ 16.99|1.01|Female| No|Sun|Dinner| 2| 1.0| 10.34|1.66| Male| No|Sun|Dinner| 3| 0.0| 21.01| 3.5| Male| No|Sun|Dinner| 3| 0.0| 23.68|3.31| Male| No|Sun|Dinner| 2| 0.0| 24.59|3.61|Female| No|Sun|Dinner| 4| 1.0| 25.29|4.71| Male| No|Sun|Dinner| 4| 0.0| 8.77| 2.0| Male| No|Sun|Dinner| 2| 0.0| 26.88|3.12| Male| No|Sun|Dinner| 4| 0.0| 15.04|1.96| Male| No|Sun|Dinner| 2| 0.0| 14.78|3.23| Male| No|Sun|Dinner| 2| 0.0| 10.27|1.71| Male| No|Sun|Dinner| 2| 0.0| 35.26| 5.0|Female| No|Sun|Dinner| 4| 1.0| 15.42|1.57| Male| No|Sun|Dinner| 2| 0.0| 18.43| 3.0| Male| No|Sun|Dinner| 4| 0.0| 14.83|3.02|Female| No|Sun|Dinner| 2| 1.0| 21.58|3.92| Male| No|Sun|Dinner| 2| 0.0| 10.33|1.67|Female| No|Sun|Dinner| 3| 1.0| 16.29|3.71| Male| No|Sun|Dinner| 3| 0.0| 16.97| 3.5|Female| No|Sun|Dinner| 3| 1.0| 20.65|3.35| Male| No|Sat|Dinner| 3| 0.0| +----------+----+------+------+---+------+----+-----------+ only showing top 20 rows"
   ]
  },
  {
   "cell_type": "code",
   "execution_count": null,
   "id": "7de1b076",
   "metadata": {},
   "outputs": [],
   "source": [
    "indexer=StringIndexer(inputCols=[\"smoker\",\"day\",\"time\"],outputCols=[\"smoker_indexed\",\"day_indexed\",\n",
    "                                                                  \"time_index\"])\n",
    "df_r=indexer.fit(df_r).transform(df_r)\n",
    "df_r.show()"
   ]
  },
  {
   "cell_type": "markdown",
   "id": "6bf87d21",
   "metadata": {},
   "source": [
    "+----------+----+------+------+---+------+----+-----------+--------------+-----------+----------+ total_bill| tip| sex|smoker|day| time|size|sex_indexed|smoker_indexed|day_indexed|time_index| +----------+----+------+------+---+------+----+-----------+--------------+-----------+----------+ 16.99|1.01|Female| No|Sun|Dinner| 2| 1.0| 0.0| 1.0| 0.0| 10.34|1.66| Male| No|Sun|Dinner| 3| 0.0| 0.0| 1.0| 0.0| 21.01| 3.5| Male| No|Sun|Dinner| 3| 0.0| 0.0| 1.0| 0.0| 23.68|3.31| Male| No|Sun|Dinner| 2| 0.0| 0.0| 1.0| 0.0| 24.59|3.61|Female| No|Sun|Dinner| 4| 1.0| 0.0| 1.0| 0.0| 25.29|4.71| Male| No|Sun|Dinner| 4| 0.0| 0.0| 1.0| 0.0| 8.77| 2.0| Male| No|Sun|Dinner| 2| 0.0| 0.0| 1.0| 0.0| 26.88|3.12| Male| No|Sun|Dinner| 4| 0.0| 0.0| 1.0| 0.0| 15.04|1.96| Male| No|Sun|Dinner| 2| 0.0| 0.0| 1.0| 0.0| 14.78|3.23| Male| No|Sun|Dinner| 2| 0.0| 0.0| 1.0| 0.0| 10.27|1.71| Male| No|Sun|Dinner| 2| 0.0| 0.0| 1.0| 0.0| 35.26| 5.0|Female| No|Sun|Dinner| 4| 1.0| 0.0| 1.0| 0.0| 15.42|1.57| Male| No|Sun|Dinner| 2| 0.0| 0.0| 1.0| 0.0| 18.43| 3.0| Male| No|Sun|Dinner| 4| 0.0| 0.0| 1.0| 0.0| 14.83|3.02|Female| No|Sun|Dinner| 2| 1.0| 0.0| 1.0| 0.0| 21.58|3.92| Male| No|Sun|Dinner| 2| 0.0| 0.0| 1.0| 0.0| 10.33|1.67|Female| No|Sun|Dinner| 3| 1.0| 0.0| 1.0| 0.0| 16.29|3.71| Male| No|Sun|Dinner| 3| 0.0| 0.0| 1.0| 0.0| 16.97| 3.5|Female| No|Sun|Dinner| 3| 1.0| 0.0| 1.0| 0.0| 20.65|3.35| Male| No|Sat|Dinner| 3| 0.0| 0.0| 0.0| 0.0| +----------+----+------+------+---+------+----+-----------+--------------+-----------+----------+ only showing top 20 rows"
   ]
  },
  {
   "cell_type": "code",
   "execution_count": null,
   "id": "c087b4f1",
   "metadata": {},
   "outputs": [],
   "source": [
    "df_r.columns"
   ]
  },
  {
   "cell_type": "markdown",
   "id": "b467f5ba",
   "metadata": {},
   "source": [
    "Out[9]: ['total_bill', 'tip', 'sex', 'smoker', 'day', 'time', 'size', 'sex_indexed', 'smoker_indexed', 'day_indexed', 'time_index']"
   ]
  },
  {
   "cell_type": "code",
   "execution_count": null,
   "id": "ad6454a5",
   "metadata": {},
   "outputs": [],
   "source": [
    "from pyspark.ml.feature import VectorAssembler\n",
    "featureassembler=VectorAssembler(inputCols=['tip','size','sex_indexed','smoker_indexed','day_indexed',\n",
    "                          'time_index'],outputCol=\"Independent Features\")\n",
    "output=featureassembler.transform(df_r)"
   ]
  },
  {
   "cell_type": "code",
   "execution_count": null,
   "id": "119d0801",
   "metadata": {},
   "outputs": [],
   "source": [
    "output.select('Independent Features').show()"
   ]
  },
  {
   "cell_type": "markdown",
   "id": "dee73414",
   "metadata": {},
   "source": [
    "+--------------------+ Independent Features| +--------------------+ [1.01,2.0,1.0,0.0...| [1.66,3.0,0.0,0.0...| [3.5,3.0,0.0,0.0,...| [3.31,2.0,0.0,0.0...| [3.61,4.0,1.0,0.0...| [4.71,4.0,0.0,0.0...| [2.0,2.0,0.0,0.0,...| [3.12,4.0,0.0,0.0...| [1.96,2.0,0.0,0.0...| [3.23,2.0,0.0,0.0...| [1.71,2.0,0.0,0.0...| [5.0,4.0,1.0,0.0,...| [1.57,2.0,0.0,0.0...| [3.0,4.0,0.0,0.0,...| [3.02,2.0,1.0,0.0...| [3.92,2.0,0.0,0.0...| [1.67,3.0,1.0,0.0...| [3.71,3.0,0.0,0.0...| [3.5,3.0,1.0,0.0,...| (6,[0,1],[3.35,3.0])| +--------------------+ only showing top 20 rows"
   ]
  },
  {
   "cell_type": "code",
   "execution_count": null,
   "id": "ad4debc4",
   "metadata": {},
   "outputs": [],
   "source": [
    "output.show()"
   ]
  },
  {
   "cell_type": "markdown",
   "id": "1f251d5e",
   "metadata": {},
   "source": [
    "+----------+----+------+------+---+------+----+-----------+--------------+-----------+----------+--------------------+ total_bill| tip| sex|smoker|day| time|size|sex_indexed|smoker_indexed|day_indexed|time_index|Independent Features| +----------+----+------+------+---+------+----+-----------+--------------+-----------+----------+--------------------+ 16.99|1.01|Female| No|Sun|Dinner| 2| 1.0| 0.0| 1.0| 0.0|[1.01,2.0,1.0,0.0...| 10.34|1.66| Male| No|Sun|Dinner| 3| 0.0| 0.0| 1.0| 0.0|[1.66,3.0,0.0,0.0...| 21.01| 3.5| Male| No|Sun|Dinner| 3| 0.0| 0.0| 1.0| 0.0|[3.5,3.0,0.0,0.0,...| 23.68|3.31| Male| No|Sun|Dinner| 2| 0.0| 0.0| 1.0| 0.0|[3.31,2.0,0.0,0.0...| 24.59|3.61|Female| No|Sun|Dinner| 4| 1.0| 0.0| 1.0| 0.0|[3.61,4.0,1.0,0.0...| 25.29|4.71| Male| No|Sun|Dinner| 4| 0.0| 0.0| 1.0| 0.0|[4.71,4.0,0.0,0.0...| 8.77| 2.0| Male| No|Sun|Dinner| 2| 0.0| 0.0| 1.0| 0.0|[2.0,2.0,0.0,0.0,...| 26.88|3.12| Male| No|Sun|Dinner| 4| 0.0| 0.0| 1.0| 0.0|[3.12,4.0,0.0,0.0...| 15.04|1.96| Male| No|Sun|Dinner| 2| 0.0| 0.0| 1.0| 0.0|[1.96,2.0,0.0,0.0...| 14.78|3.23| Male| No|Sun|Dinner| 2| 0.0| 0.0| 1.0| 0.0|[3.23,2.0,0.0,0.0...| 10.27|1.71| Male| No|Sun|Dinner| 2| 0.0| 0.0| 1.0| 0.0|[1.71,2.0,0.0,0.0...| 35.26| 5.0|Female| No|Sun|Dinner| 4| 1.0| 0.0| 1.0| 0.0|[5.0,4.0,1.0,0.0,...| 15.42|1.57| Male| No|Sun|Dinner| 2| 0.0| 0.0| 1.0| 0.0|[1.57,2.0,0.0,0.0...| 18.43| 3.0| Male| No|Sun|Dinner| 4| 0.0| 0.0| 1.0| 0.0|[3.0,4.0,0.0,0.0,...| 14.83|3.02|Female| No|Sun|Dinner| 2| 1.0| 0.0| 1.0| 0.0|[3.02,2.0,1.0,0.0...| 21.58|3.92| Male| No|Sun|Dinner| 2| 0.0| 0.0| 1.0| 0.0|[3.92,2.0,0.0,0.0...| 10.33|1.67|Female| No|Sun|Dinner| 3| 1.0| 0.0| 1.0| 0.0|[1.67,3.0,1.0,0.0...| 16.29|3.71| Male| No|Sun|Dinner| 3| 0.0| 0.0| 1.0| 0.0|[3.71,3.0,0.0,0.0...| 16.97| 3.5|Female| No|Sun|Dinner| 3| 1.0| 0.0| 1.0| 0.0|[3.5,3.0,1.0,0.0,...| 20.65|3.35| Male| No|Sat|Dinner| 3| 0.0| 0.0| 0.0| 0.0|(6,[0,1],[3.35,3.0])| +----------+----+------+------+---+------+----+-----------+--------------+-----------+----------+--------------------+ only showing top 20 rows\n"
   ]
  },
  {
   "cell_type": "code",
   "execution_count": null,
   "id": "59f36e4d",
   "metadata": {},
   "outputs": [],
   "source": [
    "finalized_data=output.select(\"Independent Features\",\"total_bill\")"
   ]
  },
  {
   "cell_type": "code",
   "execution_count": null,
   "id": "72a58dbd",
   "metadata": {},
   "outputs": [],
   "source": [
    "finalized_data.show()"
   ]
  },
  {
   "cell_type": "markdown",
   "id": "0bd06b0f",
   "metadata": {},
   "source": [
    "+--------------------+----------+ Independent Features|total_bill| +--------------------+----------+ [1.01,2.0,1.0,0.0...| 16.99| [1.66,3.0,0.0,0.0...| 10.34| [3.5,3.0,0.0,0.0,...| 21.01| [3.31,2.0,0.0,0.0...| 23.68| [3.61,4.0,1.0,0.0...| 24.59| [4.71,4.0,0.0,0.0...| 25.29| [2.0,2.0,0.0,0.0,...| 8.77| [3.12,4.0,0.0,0.0...| 26.88| [1.96,2.0,0.0,0.0...| 15.04| [3.23,2.0,0.0,0.0...| 14.78| [1.71,2.0,0.0,0.0...| 10.27| [5.0,4.0,1.0,0.0,...| 35.26| [1.57,2.0,0.0,0.0...| 15.42| [3.0,4.0,0.0,0.0,...| 18.43| [3.02,2.0,1.0,0.0...| 14.83| [3.92,2.0,0.0,0.0...| 21.58| [1.67,3.0,1.0,0.0...| 10.33| [3.71,3.0,0.0,0.0...| 16.29| [3.5,3.0,1.0,0.0,...| 16.97| (6,[0,1],[3.35,3.0])| 20.65| +--------------------+----------+ only showing top 20 rows"
   ]
  },
  {
   "cell_type": "code",
   "execution_count": null,
   "id": "109e9a1e",
   "metadata": {},
   "outputs": [],
   "source": [
    "from pyspark.ml.regression import LinearRegression\n",
    "##train test split\n",
    "train_data,test_data=finalized_data.randomSplit([0.75,0.25])\n",
    "regressor=LinearRegression(featuresCol='Independent Features', labelCol='total_bill')\n",
    "regressor=regressor.fit(train_data)"
   ]
  },
  {
   "cell_type": "code",
   "execution_count": null,
   "id": "e6bb29a9",
   "metadata": {},
   "outputs": [],
   "source": [
    "regressor.coefficients"
   ]
  },
  {
   "cell_type": "markdown",
   "id": "e112f2e3",
   "metadata": {},
   "source": [
    "Out[17]: DenseVector([3.3598, 3.3861, -0.6641, 2.5847, -0.1423, -1.3377])"
   ]
  },
  {
   "cell_type": "code",
   "execution_count": null,
   "id": "46bf7551",
   "metadata": {},
   "outputs": [],
   "source": [
    "regressor.intercept"
   ]
  },
  {
   "cell_type": "markdown",
   "id": "357aee00",
   "metadata": {},
   "source": [
    "Out[18]: 0.9231025978363154"
   ]
  },
  {
   "cell_type": "code",
   "execution_count": null,
   "id": "847420b7",
   "metadata": {},
   "outputs": [],
   "source": [
    "### Predictions\n",
    "pred_results=regressor.evaluate(test_data)"
   ]
  },
  {
   "cell_type": "code",
   "execution_count": null,
   "id": "2cadbadd",
   "metadata": {},
   "outputs": [],
   "source": [
    "## Final comparison\n",
    "pred_results.predictions.show()"
   ]
  },
  {
   "cell_type": "markdown",
   "id": "0d084405",
   "metadata": {},
   "source": [
    "+--------------------+----------+------------------+ Independent Features|total_bill| prediction| +--------------------+----------+------------------+ (6,[0,1],[2.0,2.0])| 12.69|14.414877568922382| (6,[0,1],[3.35,3.0])| 20.65|22.336705086951124| [1.0,1.0,1.0,0.0,...| 7.25| 7.004851678101628| [1.17,2.0,0.0,1.0...| 32.83|14.210940490994291| [1.36,3.0,1.0,0.0...| 18.64|13.364280305420156| [1.5,2.0,0.0,1.0,...| 11.59|15.319683950195104| [1.58,2.0,0.0,1.0...| 13.42| 13.82395853728497| [1.66,3.0,0.0,0.0...| 10.34|16.516310272733463| [1.73,2.0,0.0,0.0...| 9.78| 11.88549649517034| [2.0,2.0,0.0,0.0,...| 13.81| 14.27259319727858| [2.0,2.0,0.0,0.0,...| 13.03| 12.79265023451646| [2.0,2.0,1.0,0.0,...| 14.15|12.128511829238738| [2.0,2.0,1.0,0.0,...| 14.52|12.128511829238738| [2.0,2.0,1.0,1.0,...| 10.63|16.335459877039824| [2.0,2.0,1.0,1.0,...| 27.18|16.335459877039824| [2.0,3.0,1.0,0.0,...| 16.21|16.994513613299002| [2.23,2.0,1.0,1.0...| 12.76| 17.10822046981615| [2.24,2.0,0.0,0.0...| 20.76|15.078952076697353| [2.31,2.0,0.0,0.0...| 11.69|13.834197120432375| [2.5,2.0,0.0,0.0,...| 14.07|15.952507529401023| +--------------------+----------+------------------+ only showing top 20 rows\n"
   ]
  },
  {
   "cell_type": "code",
   "execution_count": null,
   "id": "f2885510",
   "metadata": {},
   "outputs": [],
   "source": [
    "### PErformance Metrics\n",
    "pred_results.r2,pred_results.meanAbsoluteError,pred_results.meanSquaredError"
   ]
  },
  {
   "cell_type": "markdown",
   "id": "586941c9",
   "metadata": {},
   "source": [
    "Out[25]: (0.40050077944613716, 4.809771114444798, 40.934088106916576)"
   ]
  }
 ],
 "metadata": {
  "kernelspec": {
   "display_name": "Python 3 (ipykernel)",
   "language": "python",
   "name": "python3"
  },
  "language_info": {
   "codemirror_mode": {
    "name": "ipython",
    "version": 3
   },
   "file_extension": ".py",
   "mimetype": "text/x-python",
   "name": "python",
   "nbconvert_exporter": "python",
   "pygments_lexer": "ipython3",
   "version": "3.9.7"
  }
 },
 "nbformat": 4,
 "nbformat_minor": 5
}
